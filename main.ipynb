{
 "cells": [
  {
   "cell_type": "markdown",
   "id": "2da614da-3b9d-4e98-9505-9feeff6cb2ea",
   "metadata": {},
   "source": [
    "# Alzheimer’s Disease Prediction by Machine Learning Models with MRI Images"
   ]
  },
  {
   "cell_type": "markdown",
   "id": "4bcfc5ea-d60d-4e60-92c5-76d724dd1e8d",
   "metadata": {},
   "source": [
    "### Importing Libraries"
   ]
  },
  {
   "cell_type": "code",
   "execution_count": 1,
   "id": "bb71efd6-f6cd-4c51-b39f-c1afcbcf3768",
   "metadata": {},
   "outputs": [],
   "source": [
    "import opendatasets as od\n",
    "import pandas as pd\n",
    "import numpy as np\n",
    "import matplotlib.pyplot as plt\n",
    "import seaborn as sns\n",
    "import os"
   ]
  },
  {
   "cell_type": "markdown",
   "id": "1f46054e-8b1b-4281-8556-c66b37f50c4c",
   "metadata": {},
   "source": [
    "### Loading The Dataset"
   ]
  },
  {
   "cell_type": "markdown",
   "id": "7c54490c-e4e2-460a-84b8-f8802605c2ce",
   "metadata": {},
   "source": [
    "Since the dataset consists of lots of MRI images, I decided to upload them by using Kaggle API."
   ]
  },
  {
   "cell_type": "code",
   "execution_count": 2,
   "id": "d4de846d-3dd7-486f-856a-9a9a289552e3",
   "metadata": {},
   "outputs": [
    {
     "name": "stdout",
     "output_type": "stream",
     "text": [
      "Skipping, found downloaded files in \"./alzheimer-mri-dataset\" (use force=True to force download)\n"
     ]
    }
   ],
   "source": [
    "dataset_url = \"https://www.kaggle.com/datasets/sachinkumar413/alzheimer-mri-dataset\"\n",
    "od.download(dataset_url)"
   ]
  },
  {
   "cell_type": "code",
   "execution_count": 3,
   "id": "799b8be2-51bb-41ec-b365-e4a1421b04ee",
   "metadata": {},
   "outputs": [
    {
     "name": "stdout",
     "output_type": "stream",
     "text": [
      "['Moderate_Demented', 'Mild_Demented', 'Very_Mild_Demented', 'Non_Demented']\n",
      "Number of labels is 4 in this dataset.\n"
     ]
    }
   ],
   "source": [
    "#Dataset directory\n",
    "dataset_dir = \"./alzheimer-mri-dataset/Dataset\"\n",
    "print(os.listdir(dataset_dir))\n",
    "\n",
    "files = os.listdir(dataset_dir)\n",
    "print(f\"Number of labels is {len(files)} in this dataset.\")"
   ]
  },
  {
   "cell_type": "markdown",
   "id": "b5d9f146-8341-455e-ac50-7c8bcfc896ba",
   "metadata": {},
   "source": [
    "As we can see there are four groups of images in the dataset such as 'Moderate_Demented', 'Mild_Demented', 'Very_Mild_Demented' and 'Non_Demented'."
   ]
  },
  {
   "cell_type": "code",
   "execution_count": null,
   "id": "25eb84b4-4e36-41e5-82a1-7514a431c30a",
   "metadata": {},
   "outputs": [],
   "source": []
  }
 ],
 "metadata": {
  "kernelspec": {
   "display_name": "Python 3 (ipykernel)",
   "language": "python",
   "name": "python3"
  },
  "language_info": {
   "codemirror_mode": {
    "name": "ipython",
    "version": 3
   },
   "file_extension": ".py",
   "mimetype": "text/x-python",
   "name": "python",
   "nbconvert_exporter": "python",
   "pygments_lexer": "ipython3",
   "version": "3.11.5"
  }
 },
 "nbformat": 4,
 "nbformat_minor": 5
}
